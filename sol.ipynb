{
  "nbformat": 4,
  "nbformat_minor": 0,
  "metadata": {
    "colab": {
      "name": "sol.ipynb",
      "provenance": [],
      "collapsed_sections": [],
      "include_colab_link": true
    },
    "kernelspec": {
      "name": "python3",
      "display_name": "Python 3"
    }
  },
  "cells": [
    {
      "cell_type": "markdown",
      "metadata": {
        "id": "view-in-github",
        "colab_type": "text"
      },
      "source": [
        "<a href=\"https://colab.research.google.com/github/ajuRavi/Machine-Learning_Case-Study/blob/master/sol.ipynb\" target=\"_parent\"><img src=\"https://colab.research.google.com/assets/colab-badge.svg\" alt=\"Open In Colab\"/></a>"
      ]
    },
    {
      "cell_type": "code",
      "metadata": {
        "id": "6UecJ_xnR1pe",
        "colab_type": "code",
        "colab": {}
      },
      "source": [
        "from google import colab"
      ],
      "execution_count": 0,
      "outputs": []
    },
    {
      "cell_type": "code",
      "metadata": {
        "id": "RwrpWHyLStca",
        "colab_type": "code",
        "outputId": "47411cce-41f6-4dd9-8b78-4659ecfe6e61",
        "colab": {
          "base_uri": "https://localhost:8080/",
          "height": 146
        }
      },
      "source": [
        "from google.colab import drive\n",
        "drive.mount('/content/drive')\n",
        "!ls \"/content/drive/My Drive/Colab Notebooks/nb\""
      ],
      "execution_count": 0,
      "outputs": [
        {
          "output_type": "stream",
          "text": [
            "Go to this URL in a browser: https://accounts.google.com/o/oauth2/auth?client_id=947318989803-6bn6qk8qdgf4n4g3pfee6491hc0brc4i.apps.googleusercontent.com&redirect_uri=urn%3Aietf%3Awg%3Aoauth%3A2.0%3Aoob&scope=email%20https%3A%2F%2Fwww.googleapis.com%2Fauth%2Fdocs.test%20https%3A%2F%2Fwww.googleapis.com%2Fauth%2Fdrive%20https%3A%2F%2Fwww.googleapis.com%2Fauth%2Fdrive.photos.readonly%20https%3A%2F%2Fwww.googleapis.com%2Fauth%2Fpeopleapi.readonly&response_type=code\n",
            "\n",
            "Enter your authorization code:\n",
            "··········\n",
            "Mounted at /content/drive\n",
            "enron  sol.ipynb\n"
          ],
          "name": "stdout"
        }
      ]
    },
    {
      "cell_type": "code",
      "metadata": {
        "id": "G4UcJVk0TSjT",
        "colab_type": "code",
        "outputId": "aaf47894-7faf-411c-8560-468da85c0713",
        "colab": {
          "base_uri": "https://localhost:8080/",
          "height": 35
        }
      },
      "source": [
        "cd /content/drive/My Drive/Colab Notebooks/nb"
      ],
      "execution_count": 0,
      "outputs": [
        {
          "output_type": "stream",
          "text": [
            "/content/drive/My Drive/Colab Notebooks/nb\n"
          ],
          "name": "stdout"
        }
      ]
    },
    {
      "cell_type": "code",
      "metadata": {
        "id": "xWaY44jdR-WM",
        "colab_type": "code",
        "colab": {}
      },
      "source": [
        "import os\n",
        "import re\n",
        "import string\n",
        "import math\n",
        "\n",
        "DATA_DIR = 'enron'\n",
        "target_names = ['ham', 'spam']\n",
        "\n",
        "def get_data(DATA_DIR):\n",
        "\tsubfolders = ['enron%d' % i for i in [1]]\n",
        "\n",
        "\tdata = []\n",
        "\ttarget = []\n",
        "\tfor subfolder in subfolders:\n",
        "\t\t# spam\n",
        "\t\tspam_files = os.listdir(os.path.join(DATA_DIR, subfolder, 'spam'))\n",
        "\t\tfor spam_file in spam_files:\n",
        "\t\t\twith open(os.path.join(DATA_DIR, subfolder, 'spam', spam_file), encoding=\"latin-1\") as f:\n",
        "\t\t\t\tdata.append(f.read())\n",
        "\t\t\t\ttarget.append(1)\n",
        "\n",
        "\t\t# ham\n",
        "\t\tham_files = os.listdir(os.path.join(DATA_DIR, subfolder, 'ham'))\n",
        "\t\tfor ham_file in ham_files:\n",
        "\t\t\twith open(os.path.join(DATA_DIR, subfolder, 'ham', ham_file), encoding=\"latin-1\") as f:\n",
        "\t\t\t\tdata.append(f.read())\n",
        "\t\t\t\ttarget.append(0)\n",
        "\treturn data, target\n"
      ],
      "execution_count": 0,
      "outputs": []
    },
    {
      "cell_type": "code",
      "metadata": {
        "id": "j5fmh8AJTZ-X",
        "colab_type": "code",
        "colab": {}
      },
      "source": [
        "\n",
        "if __name__ == '__main__':\n",
        "    X, y = get_data(DATA_DIR)\n"
      ],
      "execution_count": 0,
      "outputs": []
    },
    {
      "cell_type": "code",
      "metadata": {
        "id": "yKB_66NIV9_0",
        "colab_type": "code",
        "outputId": "e7f86b86-2503-4425-b516-374232b58ae8",
        "colab": {
          "base_uri": "https://localhost:8080/",
          "height": 108
        }
      },
      "source": [
        "import re\n",
        "import nltk\n",
        "from nltk.stem.porter import PorterStemmer\n",
        "ps=PorterStemmer()\n",
        "nltk.download('stopwords')\n",
        "from nltk.corpus import stopwords\n",
        "\n",
        "#creation of csv\n",
        "#data=pd.DataFrame()\n",
        "#for i in X:\n",
        "#    data.append(i)\n",
        "    \n",
        "#data=pd.read_csv('data.csv')\n",
        "corpus=[]\n",
        "for i in X:\n",
        "    sent=i\n",
        "    sent=re.sub('[^a-z A-z]',' ',sent)\n",
        "    sent=sent.lower()\n",
        "    sent=sent.split()\n",
        "    ps=PorterStemmer()\n",
        "    sent=[ps.stem(word) for word in sent if word not in set(stopwords.words('english'))]\n",
        "    review=' '.join(sent)\n",
        "    corpus.append(review)\n",
        "\n",
        "#using tfid\n",
        "#next try without corpus...or directly put into tfidf\n",
        "from sklearn.feature_extraction.text import TfidfVectorizer\n",
        "tv = TfidfVectorizer(stop_words=None, max_features=100000,ngram_range=(1,2))\n",
        "corpus_tv = tv.fit_transform(corpus)\n",
        "features=corpus_tv.todense()\n",
        "\n",
        "from sklearn.model_selection import cross_val_score,KFold\n",
        "from sklearn.naive_bayes import GaussianNB\n",
        "nb=GaussianNB()\n",
        "\n",
        "#split\n",
        "from sklearn.model_selection import train_test_split\n",
        "x_train,x_test,y_train,y_test=train_test_split(features,y,random_state=100,shuffle=True)\n",
        "print(len(y_train),x_train.shape)\n",
        "\n",
        "#rf\n",
        "# from sklearn.ensemble import RandomForestClassifier as rfc\n",
        "# rf=rfc(n_estimators=100,verbose=1)\n",
        "# rf.fit(x_train,y_train)\n",
        "# y_pred=rf.predict(x_test)\n",
        "# print(accuracy_score(y_test,y_pred))\n",
        "\n",
        "#nb\n",
        "from sklearn.metrics import accuracy_score\n",
        "nb.fit(x_train,y_train)\n",
        "y_pred_nb=nb.predict(x_test)\n",
        "print(accuracy_score(y_test,y_pred_nb))\n",
        "\n",
        "from sklearn.metrics import confusion_matrix as cm\n",
        "cm(y_test,y_pred_nb)\n",
        "\n",
        "from sklearn.metrics import precision_recall_fscore_support as prec\n",
        "\n",
        "prec(y_test,y_pred_nb,average='weighted')"
      ],
      "execution_count": 0,
      "outputs": [
        {
          "output_type": "stream",
          "text": [
            "[nltk_data] Downloading package stopwords to /root/nltk_data...\n",
            "[nltk_data]   Package stopwords is already up-to-date!\n",
            "1391 (1391, 100000)\n",
            "0.9762931034482759\n"
          ],
          "name": "stdout"
        },
        {
          "output_type": "execute_result",
          "data": {
            "text/plain": [
              "(0.9760961904279631, 0.9762931034482759, 0.9761268956943152, None)"
            ]
          },
          "metadata": {
            "tags": []
          },
          "execution_count": 10
        }
      ]
    },
    {
      "cell_type": "code",
      "metadata": {
        "id": "HMszwL0dW_Mn",
        "colab_type": "code",
        "colab": {}
      },
      "source": [
        "from sklearn.metrics import classification_report as cr\n",
        "crc=cr(y_test,y_pred_nb)\n"
      ],
      "execution_count": 0,
      "outputs": []
    },
    {
      "cell_type": "code",
      "metadata": {
        "id": "5ihIiboMXian",
        "colab_type": "code",
        "outputId": "59a7caf3-035f-485a-e081-dab966f7b944",
        "colab": {
          "base_uri": "https://localhost:8080/",
          "height": 181
        }
      },
      "source": [
        "print(crc)"
      ],
      "execution_count": 0,
      "outputs": [
        {
          "output_type": "stream",
          "text": [
            "              precision    recall  f1-score   support\n",
            "\n",
            "           0       0.96      0.98      0.97       379\n",
            "           1       0.92      0.84      0.88        85\n",
            "\n",
            "    accuracy                           0.96       464\n",
            "   macro avg       0.94      0.91      0.93       464\n",
            "weighted avg       0.96      0.96      0.96       464\n",
            "\n"
          ],
          "name": "stdout"
        }
      ]
    },
    {
      "cell_type": "code",
      "metadata": {
        "id": "GVShrZriXmCy",
        "colab_type": "code",
        "outputId": "a09b6a13-3df2-4d00-c605-070424692d77",
        "colab": {
          "base_uri": "https://localhost:8080/",
          "height": 128
        }
      },
      "source": [
        "corpus[:5]"
      ],
      "execution_count": 0,
      "outputs": [
        {
          "output_type": "execute_result",
          "data": {
            "text/plain": [
              "['subject lone womenn area click remov',\n",
              " 'subject prozac med million peopl reli wonder drug get prozac relax enjoy life wish receiv email pleas click honor unsubscrib request immediatli',\n",
              " 'subject coca cola mbna america nascar partner otcbb imt stock profil compani invest highlight press releas indianapoli race car simul ink sale eight simul instal moscow indianapoli nascar silicon motor speedway simul go intern indianapoli nascar silicon motor speedway expand monterey california fame canneri row indianapoli nascar silicon motor speedway announc custom upgrad world realist race simul indianapoli race car simul baldacci sign agreement develop intern market new gener race simulutor indianapoli imt form new subsidiari manufactur sale race car simul indianapoli nascar silicon motor speedway renew licens agreement speedway motorsport inc race track simul indianapoli nascar silicon motor speedway int speedway corp renew licens agreement race track simul indianapoli nascar silicon motor speedway simul instal st loui nascar speedpark locat indianapoli nascar silicon motor speedway oper get exclus five year nascar licens extens nashvil tn nascar silicon motor speedway opri mill host offici media luncheon nashvil superspeedway trace adkin chrome event indianapoli nascar silicon motor speedway simul run nascar speedpark indianapoli nascar silicon motor speedway expans plan begin two burrough chapin entertain venu indianapoli nascar silicon motor speedway determin nation champion among simul racer indianapoli partnership coca cola mbna demand boost nascar silicon motor speedway race center indianapoli nascar driver sadler nadeau give thumb indianapoli simul nascar silicon motor speedway indianapoli star stud lineup make wish fundrais nashvil nascar silicon motor speedway locat indianapoli indianapoli motor speedway ad nascar silicon motor speedway simul import notic disclaim pleas read intellig stock pick affili isp publish report provid inform select compani isp believ invest potenti isp regist invest advisor broker dealer report provid inform servic statement opinion report constru offer solicit buy sell secur isp accept liabil loss aris investor relianc use report invest imt consid highli specul consid unless person afford complet loss invest isp agre profil imt conjunct oblig one isp affili owe third parti sbr public circul report isp own share imt stock time public report subsequ isp may buy sell share imt stock open market report contain forward look statement involv risk uncertainti may caus actual result differ materi set forth forward look statement detail concern risk uncertainti see sec file imt includ compani recent annual quarterli report stop receiv email send blank email unsub ppkkqpkgimzpx upper web side com',\n",
              " 'subject decad soto \\\\ _ ff vi g ra c ia l l evitra credibl devil know desperado stake tart came gain brief',\n",
              " 'subject get new car peopl nowth weather climat particular environ chang affect peopl eat much abl eat']"
            ]
          },
          "metadata": {
            "tags": []
          },
          "execution_count": 15
        }
      ]
    },
    {
      "cell_type": "code",
      "metadata": {
        "id": "GpiGlNGQYGUa",
        "colab_type": "code",
        "outputId": "b1b800bb-3905-42d3-9891-a3ff8bc86ab9",
        "colab": {
          "base_uri": "https://localhost:8080/",
          "height": 35
        }
      },
      "source": [
        "y[:5]"
      ],
      "execution_count": 0,
      "outputs": [
        {
          "output_type": "execute_result",
          "data": {
            "text/plain": [
              "[1, 1, 1, 1, 1]"
            ]
          },
          "metadata": {
            "tags": []
          },
          "execution_count": 23
        }
      ]
    },
    {
      "cell_type": "code",
      "metadata": {
        "id": "l6j50rVOYIZM",
        "colab_type": "code",
        "outputId": "e3f40f24-0b8f-4571-da19-dfa591d61b31",
        "colab": {
          "base_uri": "https://localhost:8080/",
          "height": 128
        }
      },
      "source": [
        "corpus[-5:]"
      ],
      "execution_count": 0,
      "outputs": [
        {
          "output_type": "execute_result",
          "data": {
            "text/plain": [
              "['subject storag deal juli cut deal go forward forward messag tommi yanowski let know problem thank kari forward kari hast hou ect enron technolog tommi j yanowski kari hast hou ect ect cc juli meyer hou ect ect subject storag deal kari deal number good deal deal number interrupt storag deal contract interrupt contract storag deal firm storag deal sinc agre firm contract would probabl cut deal go forward tommi kari hast pm tommi j yanowski hou ect ect juli meyer hou ect ect cc subject storag deal tommi two storag deal use contract number juli meyer believ deal correct deal want check first sinc put deal let know look need cut kill deal thank kari deal contract',\n",
              " 'subject hpl nom march see attach file hplo xl hplo xl',\n",
              " 'subject new pan energi exchang deal meet daren pleas let know time meet megan new exchang deal prior settl feb product issu need clarifi sale suppli side thank katherin',\n",
              " 'subject natur ga nomin enron methanol nomin follow natur ga requir methanol plant april mmbtu per day egpfc nomin follow natur ga requir mtbe plant morgan point april mmbtu per day',\n",
              " 'subject meoh upset methanol plant make spec product rate increas full rate thursday march oxygen avail']"
            ]
          },
          "metadata": {
            "tags": []
          },
          "execution_count": 24
        }
      ]
    },
    {
      "cell_type": "code",
      "metadata": {
        "id": "0Q1eAhtKYYdh",
        "colab_type": "code",
        "outputId": "7678b694-aad0-43fb-8f8b-5eb3ed323d6a",
        "colab": {
          "base_uri": "https://localhost:8080/",
          "height": 35
        }
      },
      "source": [
        "y[-5:]"
      ],
      "execution_count": 0,
      "outputs": [
        {
          "output_type": "execute_result",
          "data": {
            "text/plain": [
              "[0, 0, 0, 0, 0]"
            ]
          },
          "metadata": {
            "tags": []
          },
          "execution_count": 25
        }
      ]
    },
    {
      "cell_type": "code",
      "metadata": {
        "id": "HJcEss42YwZH",
        "colab_type": "code",
        "colab": {}
      },
      "source": [
        "# k -means"
      ],
      "execution_count": 0,
      "outputs": []
    },
    {
      "cell_type": "code",
      "metadata": {
        "id": "AcjygRD4Y_Xi",
        "colab_type": "code",
        "outputId": "3b352724-5936-4337-f9d0-82636b16ea08",
        "colab": {
          "base_uri": "https://localhost:8080/",
          "height": 295
        }
      },
      "source": [
        "# Using the elbow method to find the optimal number of clusters\n",
        "from sklearn.cluster import KMeans\n",
        "import matplotlib.pyplot as plt\n",
        "wcss = []\n",
        "for i in range(1, 11):\n",
        "    kmeans = KMeans(n_clusters = i, init = 'k-means++', random_state = 42)\n",
        "    kmeans.fit(x_train)\n",
        "    wcss.append(kmeans.inertia_)\n",
        "plt.plot(range(1, 11), wcss)\n",
        "plt.title('The Elbow Method')\n",
        "plt.xlabel('Number of clusters')\n",
        "plt.ylabel('WCSS')\n",
        "plt.show()\n"
      ],
      "execution_count": 0,
      "outputs": [
        {
          "output_type": "display_data",
          "data": {
            "image/png": "[encoded data removed]",
            "text/plain": [
              "<Figure size 432x288 with 1 Axes>"
            ]
          },
          "metadata": {
            "tags": []
          }
        }
      ]
    },
    {
      "cell_type": "code",
      "metadata": {
        "id": "S6TxqPs6ZwEp",
        "colab_type": "code",
        "colab": {}
      },
      "source": [
        "# Fitting K-Means to the dataset\n",
        "kmeans = KMeans(n_clusters = 2, init = 'k-means++', random_state = 42)\n",
        "kmeans.fit(x_train)\n",
        "y_kmeans =kmeans.predict(x_train)  "
      ],
      "execution_count": 0,
      "outputs": []
    },
    {
      "cell_type": "code",
      "metadata": {
        "id": "Nyju055LabyR",
        "colab_type": "code",
        "outputId": "e0a56214-9a41-4c4f-85d3-567b337359b6",
        "colab": {
          "base_uri": "https://localhost:8080/",
          "height": 72
        }
      },
      "source": [
        "print(accuracy_score(y_train,y_kmeans))\n",
        "from sklearn.metrics import confusion_matrix as cm\n",
        "cm(y_train,y_kmeans)\n"
      ],
      "execution_count": 0,
      "outputs": [
        {
          "output_type": "stream",
          "text": [
            "0.6333572969086988\n"
          ],
          "name": "stdout"
        },
        {
          "output_type": "execute_result",
          "data": {
            "text/plain": [
              "array([[881, 273],\n",
              "       [237,   0]])"
            ]
          },
          "metadata": {
            "tags": []
          },
          "execution_count": 42
        }
      ]
    },
    {
      "cell_type": "code",
      "metadata": {
        "id": "DJRlWKb2a5HC",
        "colab_type": "code",
        "colab": {}
      },
      "source": [
        ""
      ],
      "execution_count": 0,
      "outputs": []
    }
  ]
}